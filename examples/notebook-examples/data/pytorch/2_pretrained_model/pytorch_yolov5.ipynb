{
 "cells": [
  {
   "cell_type": "markdown",
   "id": "6b6de911",
   "metadata": {},
   "source": [
    "# PyTorch & Pre-trained Yolov5"
   ]
  },
  {
   "cell_type": "markdown",
   "id": "2e7bfed9",
   "metadata": {},
   "source": [
    "## Welcome to PrimeHub!\n",
    "In this quickstart, we will show you how to use a pre-trained Yolov5 for Object Detection."
   ]
  },
  {
   "cell_type": "markdown",
   "id": "89ec33b5",
   "metadata": {},
   "source": [
    "### Make sure the requirements is installed"
   ]
  },
  {
   "cell_type": "code",
   "execution_count": null,
   "id": "f6795f93",
   "metadata": {},
   "outputs": [],
   "source": [
    "!pip install -qr https://raw.githubusercontent.com/ultralytics/yolov5/master/requirements.txt"
   ]
  },
  {
   "cell_type": "markdown",
   "id": "ac9d0632",
   "metadata": {},
   "source": [
    "### Import libraries"
   ]
  },
  {
   "cell_type": "code",
   "execution_count": null,
   "id": "aa929fa7",
   "metadata": {},
   "outputs": [],
   "source": [
    "import os\n",
    "import torch\n",
    "from IPython.core.display import Image, display"
   ]
  },
  {
   "cell_type": "markdown",
   "id": "aaf898e0",
   "metadata": {},
   "source": [
    "### Load Pre-trained Model from PyTorch Hub"
   ]
  },
  {
   "cell_type": "code",
   "execution_count": null,
   "id": "da9c8f84",
   "metadata": {},
   "outputs": [],
   "source": [
    "model = torch.hub.load('ultralytics/yolov5', 'yolov5s', pretrained=True)"
   ]
  },
  {
   "cell_type": "markdown",
   "id": "ecf23381",
   "metadata": {},
   "source": [
    "### Load Image and Get the Object Detection Result"
   ]
  },
  {
   "cell_type": "code",
   "execution_count": null,
   "id": "b9f9e9f7",
   "metadata": {},
   "outputs": [],
   "source": [
    "# Load images from COCO dataset\n",
    "imgs = [\n",
    "    'https://farm7.staticflickr.com/6179/6269442280_4766a3a534_z.jpg',\n",
    "    'http://farm4.staticflickr.com/3052/2749731432_f5be57f30e_z.jpg',\n",
    "    'http://farm3.staticflickr.com/2785/4484897643_8d6604cf12_z.jpg',\n",
    "    'http://farm1.staticflickr.com/50/150324104_97d2122a44_z.jpg',\n",
    "    'http://farm7.staticflickr.com/6148/5951052391_232853ce8b_z.jpg'\n",
    "]  # batch of images\n",
    "\n",
    "print(\"Image Inputs:\")\n",
    "for i in imgs:\n",
    "    display(Image(url=i, width=600, unconfined=True))\n",
    "    \n",
    "# Inference\n",
    "print(\"Result:\")\n",
    "results = model(imgs)\n",
    "\n",
    "# Result\n",
    "resultPath = './inferences'\n",
    "! rm -rf ./inferences/*\n",
    "results.print()\n",
    "results.save(resultPath)\n",
    "\n",
    "print(\"Image outputs:\")\n",
    "for f in os.listdir(resultPath):\n",
    "    display(Image(filename=os.path.join(resultPath,f), width=600, unconfined=True))\n"
   ]
  }
 ],
 "metadata": {
  "kernelspec": {
   "display_name": "Python 3",
   "language": "python",
   "name": "python3"
  },
  "language_info": {
   "codemirror_mode": {
    "name": "ipython",
    "version": 3
   },
   "file_extension": ".py",
   "mimetype": "text/x-python",
   "name": "python",
   "nbconvert_exporter": "python",
   "pygments_lexer": "ipython3",
   "version": "3.7.10"
  }
 },
 "nbformat": 4,
 "nbformat_minor": 5
}
