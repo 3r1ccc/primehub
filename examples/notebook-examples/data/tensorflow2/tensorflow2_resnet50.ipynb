{
 "cells": [
  {
   "cell_type": "markdown",
   "id": "bbd31ee0",
   "metadata": {},
   "source": [
    "# TensorFlow 2 & Pre-trained Resnet-50"
   ]
  },
  {
   "cell_type": "markdown",
   "id": "8313e52a",
   "metadata": {},
   "source": [
    "## Welcome to PrimeHub!\n",
    "In this quickstart, we will show you how to use a pre-trained Resnet-50 for image classification."
   ]
  },
  {
   "cell_type": "markdown",
   "id": "ae71311b",
   "metadata": {},
   "source": [
    "### Make sure TensorFlow Hub is installed"
   ]
  },
  {
   "cell_type": "code",
   "execution_count": null,
   "id": "a63ae9aa",
   "metadata": {},
   "outputs": [],
   "source": [
    "! pip install tensorflow-hub"
   ]
  },
  {
   "cell_type": "markdown",
   "id": "58e36eb0",
   "metadata": {},
   "source": [
    "### Import libraries"
   ]
  },
  {
   "cell_type": "code",
   "execution_count": null,
   "id": "a5451fd6",
   "metadata": {},
   "outputs": [],
   "source": [
    "import cv2\n",
    "from PIL import Image\n",
    "import requests\n",
    "import wget\n",
    "import numpy as np\n",
    "import tensorflow as tf\n",
    "import tensorflow_hub as hub\n",
    "import matplotlib.pyplot as plt"
   ]
  },
  {
   "cell_type": "markdown",
   "id": "6933be04",
   "metadata": {},
   "source": [
    "### Load Pre-trained Model from TensorFlow Hub"
   ]
  },
  {
   "cell_type": "code",
   "execution_count": null,
   "id": "be04b751",
   "metadata": {},
   "outputs": [],
   "source": [
    "model = tf.keras.Sequential([hub.KerasLayer(\"https://tfhub.dev/google/imagenet/resnet_v2_50/classification/5\")])\n",
    "model.build([None, 224, 224, 3])\n",
    "model.summary()"
   ]
  },
  {
   "cell_type": "markdown",
   "id": "de61e69e",
   "metadata": {},
   "source": [
    "Download the label file"
   ]
  },
  {
   "cell_type": "code",
   "execution_count": null,
   "id": "62f557a0",
   "metadata": {},
   "outputs": [],
   "source": [
    "response = requests.get('https://storage.googleapis.com/download.tensorflow.org/data/ImageNetLabels.txt')\n",
    "labels = response.text.splitlines()"
   ]
  },
  {
   "cell_type": "markdown",
   "id": "a0123d60",
   "metadata": {},
   "source": [
    "### Fetch a Random Image and Get the Classification Result"
   ]
  },
  {
   "cell_type": "code",
   "execution_count": null,
   "id": "0c2506ff",
   "metadata": {},
   "outputs": [],
   "source": [
    "# Fetch image\n",
    "url = 'https://picsum.photos/224'\n",
    "img = Image.open(requests.get(url, stream=True).raw)\n",
    "plt.imshow(img)\n",
    "\n",
    "# Resize and Normalize image\n",
    "x = img.resize((224,224))\n",
    "x = np.asarray(x) / 255\n",
    "x = np.expand_dims(x, axis=0)\n",
    "\n",
    "# Inference and get label\n",
    "pred_id = np.argmax(model.predict(x))\n",
    "print('Inference Result:', labels[pred_id])"
   ]
  }
 ],
 "metadata": {
  "kernelspec": {
   "display_name": "Python 3 (ipykernel)",
   "language": "python",
   "name": "python3"
  },
  "language_info": {
   "codemirror_mode": {
    "name": "ipython",
    "version": 3
   },
   "file_extension": ".py",
   "mimetype": "text/x-python",
   "name": "python",
   "nbconvert_exporter": "python",
   "pygments_lexer": "ipython3",
   "version": "3.7.10"
  }
 },
 "nbformat": 4,
 "nbformat_minor": 5
}
