{
 "cells": [
  {
   "cell_type": "code",
   "execution_count": 1,
   "id": "8745adcf",
   "metadata": {},
   "outputs": [
    {
     "name": "stdout",
     "output_type": "stream",
     "text": [
      "Tue Jun 15 15:16:54 2021       \n",
      "+-----------------------------------------------------------------------------+\n",
      "| NVIDIA-SMI 450.51.06    Driver Version: 450.51.06    CUDA Version: 11.0     |\n",
      "|-------------------------------+----------------------+----------------------+\n",
      "| GPU  Name        Persistence-M| Bus-Id        Disp.A | Volatile Uncorr. ECC |\n",
      "| Fan  Temp  Perf  Pwr:Usage/Cap|         Memory-Usage | GPU-Util  Compute M. |\n",
      "|                               |                      |               MIG M. |\n",
      "|===============================+======================+======================|\n",
      "|   0  Tesla P100-PCIE...  Off  | 00000000:00:04.0 Off |                    0 |\n",
      "| N/A   40C    P0    33W / 250W |      0MiB / 16280MiB |      0%      Default |\n",
      "|                               |                      |                  N/A |\n",
      "+-------------------------------+----------------------+----------------------+\n",
      "                                                                               \n",
      "+-----------------------------------------------------------------------------+\n",
      "| Processes:                                                                  |\n",
      "|  GPU   GI   CI        PID   Type   Process name                  GPU Memory |\n",
      "|        ID   ID                                                   Usage      |\n",
      "|=============================================================================|\n",
      "|  No running processes found                                                 |\n",
      "+-----------------------------------------------------------------------------+\n"
     ]
    }
   ],
   "source": [
    "# Get GPU status with Nvidia System Management Interface (nvidia-smi)\n",
    "# Check driver version and CUDA version are compatible with PyTorch\n",
    "!nvidia-smi"
   ]
  },
  {
   "cell_type": "code",
   "execution_count": 2,
   "id": "eecd4dae",
   "metadata": {},
   "outputs": [
    {
     "name": "stdout",
     "output_type": "stream",
     "text": [
      "Pytorch Version: 1.7.1+cu110\n",
      "CUDA Available: True\n",
      "<torch.cuda.device object at 0x7f31205f9710>\n",
      "Device Count: 1\n",
      "Device Name: Tesla P100-PCIE-16GB\n"
     ]
    }
   ],
   "source": [
    "# Get PyTorch version and the number of GPUs visible to PyTorch runtime\n",
    "import torch\n",
    "\n",
    "print(\"Pytorch Version:\", torch.__version__)\n",
    "print(\"CUDA Available:\", torch.cuda.is_available())\n",
    "\n",
    "device = torch.cuda.current_device()\n",
    "print(torch.cuda.device(device))\n",
    "print('Device Count:', torch.cuda.device_count())\n",
    "print('Device Name: {}'.format(torch.cuda.get_device_name(device)))"
   ]
  },
  {
   "cell_type": "code",
   "execution_count": 3,
   "id": "0a0e4b23",
   "metadata": {},
   "outputs": [
    {
     "name": "stdout",
     "output_type": "stream",
     "text": [
      "tensor([[22., 28.],\n",
      "        [49., 64.]], device='cuda:0')\n"
     ]
    }
   ],
   "source": [
    "# Run 'MatMul' with GPU\n",
    "a = torch.FloatTensor([[1.0, 2.0, 3.0], [4.0, 5.0, 6.0]]).to(device)\n",
    "b = torch.FloatTensor([[1.0, 2.0], [3.0, 4.0], [5.0, 6.0]]).to(device)\n",
    "c = torch.matmul(a, b)\n",
    "\n",
    "print(c)"
   ]
  },
  {
   "cell_type": "markdown",
   "id": "ef43a663",
   "metadata": {},
   "source": [
    "__[Learn more about using PyTorch with CUDA](https://pytorch.org/docs/stable/cuda.html)__"
   ]
  }
 ],
 "metadata": {
  "kernelspec": {
   "display_name": "Python 3",
   "language": "python",
   "name": "python3"
  },
  "language_info": {
   "codemirror_mode": {
    "name": "ipython",
    "version": 3
   },
   "file_extension": ".py",
   "mimetype": "text/x-python",
   "name": "python",
   "nbconvert_exporter": "python",
   "pygments_lexer": "ipython3",
   "version": "3.7.10"
  }
 },
 "nbformat": 4,
 "nbformat_minor": 5
}
